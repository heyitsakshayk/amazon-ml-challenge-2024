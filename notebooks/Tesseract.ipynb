{
 "cells": [
  {
   "cell_type": "code",
   "execution_count": 1,
   "id": "30c2833a-f9b9-410c-bc14-86393f30365e",
   "metadata": {},
   "outputs": [
    {
     "name": "stdout",
     "output_type": "stream",
     "text": [
      "<module 'pytesseract' from 'C:\\\\Users\\\\Akshay Kumar\\\\anaconda3\\\\Lib\\\\site-packages\\\\pytesseract\\\\__init__.py'>\n",
      "FOR BEST RESULT COMBINE\n",
      "\n",
      ") vue\n",
      "\n",
      "> Vitam /IMMUNE|\n",
      "\n",
      "SHIELD ja\n",
      "\n",
      "with CurQLife’ 4 —_\n",
      "fim MUNE DEFENSE sipoort protection against H\n",
      ". 4 ze rodical damage” Dt }\n",
      "\n",
      "“oaanced high potency cell\n",
      ": sector formula”\n",
      "© Helps boost * Heat imme\n",
      "cellular health and\n",
      "E + Antioxidant (q\n",
      "\n",
      "Immunity\n",
      "Products\n",
      "\n",
      "SHOP NOW »\n",
      "\n",
      ">=\n",
      "\n"
     ]
    }
   ],
   "source": [
    "from PIL import Image\n",
    "import pytesseract\n",
    "import numpy as np\n",
    "\n",
    "print(pytesseract)\n",
    "filename = 'Image1.jpg'\n",
    "img1 = np.array(Image.open(filename))\n",
    "text = pytesseract.image_to_string(img1)\n",
    "print(text)"
   ]
  },
  {
   "cell_type": "code",
   "execution_count": 3,
   "id": "b8cf8969-9f1f-4e13-8c3f-f3df6a32d9e1",
   "metadata": {},
   "outputs": [
    {
     "name": "stdout",
     "output_type": "stream",
     "text": [
      "<module 'pytesseract' from 'C:\\\\Users\\\\Akshay Kumar\\\\anaconda3\\\\Lib\\\\site-packages\\\\pytesseract\\\\__init__.py'>\n",
      "Earth's Creation\n",
      "\n",
      "Vitamin\n",
      "C 1000m\n",
      "\n",
      "iS)\n",
      "\n",
      "Supports antioxidant health &\n",
      "immune system function*\n",
      "\n",
      "Supports overall health\n",
      "\n",
      "& well-being” ‘\n",
      "Helps boost\n",
      "cellular health®\n",
      "\n",
      "nt + 16 FI. 0: (474%)\n",
      "\n",
      "\n"
     ]
    }
   ],
   "source": [
    "from PIL import Image\n",
    "import pytesseract\n",
    "import numpy as np\n",
    "\n",
    "print(pytesseract)\n",
    "filename = 'Image2.png'\n",
    "img1 = np.array(Image.open(filename))\n",
    "text = pytesseract.image_to_string(img1)\n",
    "print(text)"
   ]
  },
  {
   "cell_type": "code",
   "execution_count": 6,
   "id": "aea94feb-2260-42e3-a704-6974c91eb8aa",
   "metadata": {},
   "outputs": [
    {
     "name": "stdout",
     "output_type": "stream",
     "text": [
      "<module 'pytesseract' from 'C:\\\\Users\\\\Akshay Kumar\\\\anaconda3\\\\Lib\\\\site-packages\\\\pytesseract\\\\__init__.py'>\n",
      "KEEP FROZEN\n",
      "UNTIL READY TO USE.\n",
      "\n",
      "\n"
     ]
    }
   ],
   "source": [
    "from PIL import Image\n",
    "import pytesseract\n",
    "import numpy as np\n",
    "\n",
    "print(pytesseract)\n",
    "filename = 'Test.jpg'\n",
    "img1 = np.array(Image.open(filename))\n",
    "text = pytesseract.image_to_string(img1)\n",
    "print(text)"
   ]
  },
  {
   "cell_type": "code",
   "execution_count": 5,
   "id": "fde5aa79-684c-4e12-a0b0-c6a8ca1d1d40",
   "metadata": {},
   "outputs": [
    {
     "name": "stdout",
     "output_type": "stream",
     "text": [
      "<module 'pytesseract' from 'C:\\\\Users\\\\Akshay Kumar\\\\anaconda3\\\\Lib\\\\site-packages\\\\pytesseract\\\\__init__.py'>\n",
      "SUGGESTED USE:\n",
      "\n",
      "As a dietary supplement, take 2 capsules\n",
      "daily with 8-12 oz of water or as directed by\n",
      "your healthcare professional.\n",
      "\n",
      "° THIRD PARTY TESTED'\n",
      "* NON-GMO'\n",
      "¢ GLUTEN-FREE’\n",
      "\n",
      "WARNING: For healthy individuals 18 years and\n",
      "older. Consult a healthcare professional prior to\n",
      "use if you are pregnant or nursing, taking\n",
      "medication, or have a medical condition. Keep\n",
      "out of reach of children. Do not use if safety\n",
      "seal is broken or missing.\n",
      "\n",
      "NOTICE: Store in a cool, dry place.\n",
      "\n",
      "MADE AND QUALITY TESTED IN THE USA WITH\n",
      "GLOBALLY SOURCED INGREDIENTS.\n",
      "\n",
      "Distributed by Nutricost®\n",
      "351 E 1750 N Vineyard, UT 84059\n",
      "(866) 438-3694 | support@nutricost.com\n",
      "\n",
      "www.nutricost.com\n",
      "\n",
      "8 MI 67406\n",
      "\n",
      "404529\n",
      "NTC.5.22\n",
      "\n"
     ]
    }
   ],
   "source": [
    "from PIL import Image\n",
    "import pytesseract\n",
    "import numpy as np\n",
    "\n",
    "print(pytesseract)\n",
    "filename = 'Image2.jpg'\n",
    "img1 = np.array(Image.open(filename))\n",
    "text = pytesseract.image_to_string(img1)\n",
    "print(text)"
   ]
  },
  {
   "cell_type": "markdown",
   "id": "2ee550fa-07e1-4462-bdbe-afeb74631154",
   "metadata": {},
   "source": [
    "from PIL import Image\n",
    "import pytesseract\n",
    "import numpy as np\n",
    "\n",
    "print(pytesseract)\n",
    "filename = ''\n",
    "img1 = np.array(Image.open(filename))\n",
    "text = pytesseract.image_to_string(img1)\n",
    "print(text)"
   ]
  },
  {
   "cell_type": "code",
   "execution_count": 17,
   "id": "4769440b-7684-4ce5-ae3e-b680c4c33148",
   "metadata": {},
   "outputs": [],
   "source": [
    "from PIL import Image, ImageOps\n",
    "import pytesseract\n",
    "import numpy as np\n",
    "\n",
    "def preprocess_image(image_path):\n",
    "    img = ImageOps.grayscale(Image.open(image_path))\n",
    "\n",
    "    # Resize the image to improve OCR accuracy using the updated Resampling method\n",
    "    img = img.resize((img.width * 4, img.height * 4), Image.Resampling.LANCZOS)\n",
    "\n",
    "    # Convert the image to grayscale\n",
    "    img = img.convert('L')\n",
    "\n",
    "    return img\n",
    "\n",
    "def extract_text_with_preprocessing(image_path):\n",
    "    img = preprocess_image(image_path)\n",
    "    text = pytesseract.image_to_string(img)\n",
    "    return text"
   ]
  },
  {
   "cell_type": "code",
   "execution_count": 18,
   "id": "f0c0a327-ef36-449b-bb4b-5389e4a22e66",
   "metadata": {},
   "outputs": [
    {
     "name": "stdout",
     "output_type": "stream",
     "text": [
      "Extracted Text (with preprocessing):\n",
      " FOR BEST RESULT COMBINE\n",
      "\n",
      "ii\n",
      "LZ ji\n",
      "\n",
      "1\n",
      "[\n",
      "\n",
      "F\n",
      "\n",
      "NEW! Ae Orin\n",
      "Creatioy\n",
      "\n",
      "aa = / Pe\n",
      "\n",
      "SS —\n",
      "\n",
      "a\n",
      "\n",
      "Cell Protector}\n",
      "\n",
      "Antioxidant Formula\n",
      "\n",
      "‘ay support protection against\n",
      "2 radical damage’\n",
      "\n",
      "im mun e Health\n",
      "\n",
      "te ate a\n",
      "\n",
      "© Supports antioxidant health &\n",
      "i Peo\n",
      "immune system fi\n",
      "\n",
      "© “i “aT\n",
      "\n",
      "e\n",
      "—3in' | a “\n",
      "MULTI ACTION y - ODIONCeG nigh potency cell\n",
      "\n",
      "= Targets Cell Proiet” * ector formula’\n",
      "\n",
      "= Healthy Immune\n",
      "Response*\n",
      "\n",
      "« Antioxidant Pact?\n",
      "\n",
      "y CHpPLENE\n",
      "\n",
      "BY es\n",
      "\n",
      "© Supports ove rall health\n",
      "& well-being”\n",
      "\n",
      "> Tx\n",
      "\n",
      "“% Helps boost y\n",
      "cellular health* 4\n",
      "\n",
      "54 2 — :\n",
      "— alle\n",
      "\n",
      "DIETARY SUPPLEMENT\n",
      "\n",
      "SS Se\n",
      "\n",
      "Dietary Supplement - 16 Fi. oz (474\n",
      "\n",
      "ad\n",
      "—\n",
      "\n",
      "Immunity\n",
      "Products\n",
      "\n",
      "SHOP NOW »\n",
      "\n",
      "\n"
     ]
    }
   ],
   "source": [
    "image_path = \"Image1.jpg\"\n",
    "# Example usage\n",
    "extracted_text = extract_text_with_preprocessing(image_path)\n",
    "print(\"Extracted Text (with preprocessing):\\n\", extracted_text)\n"
   ]
  },
  {
   "cell_type": "code",
   "execution_count": 19,
   "id": "904ddd2c-6f46-4f54-8710-72a115ad015c",
   "metadata": {},
   "outputs": [],
   "source": [
    "entity_unit_map = {\n",
    "    'width': {'centimetre', 'foot', 'inch', 'metre', 'millimetre', 'yard'},\n",
    "    'depth': {'centimetre', 'foot', 'inch', 'metre', 'millimetre', 'yard'},\n",
    "    'height': {'centimetre', 'foot', 'inch', 'metre', 'millimetre', 'yard'},\n",
    "    'item_weight': {'gram',\n",
    "        'kilogram',\n",
    "        'microgram',\n",
    "        'milligram',\n",
    "        'ounce',\n",
    "        'pound',\n",
    "        'ton'},\n",
    "    'maximum_weight_recommendation': {'gram',\n",
    "        'kilogram',\n",
    "        'microgram',\n",
    "        'milligram',\n",
    "        'ounce',\n",
    "        'pound',\n",
    "        'ton'},\n",
    "    'voltage': {'kilovolt', 'millivolt', 'volt'},\n",
    "    'wattage': {'kilowatt', 'watt'},\n",
    "    'item_volume': {'centilitre',\n",
    "        'cubic foot',\n",
    "        'cubic inch',\n",
    "        'cup',\n",
    "        'decilitre',\n",
    "        'fluid ounce',\n",
    "        'gallon',\n",
    "        'imperial gallon',\n",
    "        'litre',\n",
    "        'microlitre',\n",
    "        'millilitre',\n",
    "        'pint',\n",
    "        'quart'}\n",
    "}"
   ]
  },
  {
   "cell_type": "code",
   "execution_count": 22,
   "id": "9b9af677-4449-4798-b8d4-3df8fed6c17d",
   "metadata": {},
   "outputs": [
    {
     "name": "stdout",
     "output_type": "stream",
     "text": [
      "{'fluid ounce', 'litre', 'centilitre', 'cup', 'millilitre', 'quart', 'gallon', 'decilitre', 'microlitre', 'cubic inch', 'pint', 'imperial gallon', 'cubic foot'}\n"
     ]
    }
   ],
   "source": [
    "n = 'item_volume'\n",
    "print(entity_unit_map[n])"
   ]
  },
  {
   "cell_type": "code",
   "execution_count": null,
   "id": "83dc6420-e9e8-4f67-ae3b-6450f2ec7036",
   "metadata": {},
   "outputs": [],
   "source": []
  },
  {
   "cell_type": "code",
   "execution_count": null,
   "id": "dd7d8d1c-293b-4881-a542-d54605744392",
   "metadata": {},
   "outputs": [],
   "source": []
  }
 ],
 "metadata": {
  "kernelspec": {
   "display_name": "Python 3 (ipykernel)",
   "language": "python",
   "name": "python3"
  },
  "language_info": {
   "codemirror_mode": {
    "name": "ipython",
    "version": 3
   },
   "file_extension": ".py",
   "mimetype": "text/x-python",
   "name": "python",
   "nbconvert_exporter": "python",
   "pygments_lexer": "ipython3",
   "version": "3.11.7"
  }
 },
 "nbformat": 4,
 "nbformat_minor": 5
}
